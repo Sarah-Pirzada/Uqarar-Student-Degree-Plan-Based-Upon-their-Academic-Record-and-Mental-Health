{
  "cells": [
    {
      "cell_type": "code",
      "execution_count": 1,
      "metadata": {},
      "outputs": [],
      "source": [
        "import random\n",
        "from functools import total_ordering\n",
        "\n",
        "CREDIT_HOURS_LIMIT = 18\n",
        "POPULATION_SIZE = 50\n",
        "NUM_GENERATIONS = 100"
      ]
    },
    {
      "cell_type": "code",
      "execution_count": 2,
      "metadata": {},
      "outputs": [],
      "source": [
        "class Course:\n",
        "    def __init__(self, code, title, credit_hours, prerequisites=None):\n",
        "        self.code = code\n",
        "        self.title = title\n",
        "        self.credit_hours = int(credit_hours)\n",
        "        self.prerequisites = set() if prerequisites is None else set(prerequisites)"
      ]
    },
    {
      "cell_type": "code",
      "execution_count": 3,
      "metadata": {},
      "outputs": [],
      "source": [
        "curriculum = {\n",
        "    1: {\n",
        "        \"sc1201\": Course(\"sc1201\", \"Applied Physics\", \"3\", \"\"),\n",
        "        \"sc1001\": Course(\"sc1001\", \"Calculus & Analytic Geometry\", \"3\", \"\"),\n",
        "        \"hu1002\": Course(\"hu1002\", \"English Composition & Comprehension\", \"3\", \"\"),\n",
        "        \"cs1501\": Course(\"cs1501\", \"Introduction to Information and Communication Technologies\", \"2\", \"\"),\n",
        "        \"cs1001\": Course(\"cs1001\", \"Programming Fundamentals\", \"4\", \" \")\n",
        "    },\n",
        "    2: {\n",
        "        \"hu1003\": Course(\"hu1003\", \"Communication & Presentation Skills\", \"3\", \"\"),\n",
        "        \"cs1502\": Course(\"cs1502\", \"Digital Logic and Design\", \"4\", \"\"),\n",
        "        \"hu1101\": Course(\"hu1101\", \"Islamic Studies\", \"2\", \"\"),\n",
        "        \"sc1002\": Course(\"sc1002\", \"Multivariate Calculus\", \"2\", \"sc1001\"),\n",
        "        \"cs2301\": Course(\"cs2301\", \"Discrete Structures\", \"2\", \"\"),\n",
        "        \"cs1002\": Course(\"cs1002\", \"Programming Techniques\", \"2\", \"cs1001\")\n",
        "    },\n",
        "    3: {\n",
        "        \"cs2503\": Course(\"cs2503\", \"Computer Organization & Assembly Language\", \"4\", \"\"),\n",
        "        \"cs2003\": Course(\"cs2003\", \"Data Structure and Algorithms\", \"4\", \"cs1001\"),\n",
        "        \"sc2003\": Course(\"sc2003\", \"Differential Equations\", \"3\", \"sc1001\"),\n",
        "        \"hu1102\": Course(\"hu1102\", \"Pakistan Studies\", \"2\", \"\"),\n",
        "        \"cs2004\": Course(\"cs2004\", \"Object Oriented Programming\", \"4\", \"cs1001\")\n",
        "    },\n",
        "    4: {\n",
        "        \"cs2201\": Course(\"cs2201\", \"Introduction to Database Systems\", \"4\", \"cs2003\"),\n",
        "        \"cs2504\": Course(\"cs2504\", \"Operating Systems\", \"4\", \"cs2003\"),\n",
        "        \"sc2004\": Course(\"sc2004\", \"Probability and Statistics\", \"3\", \"\"),\n",
        "        \"cs2101\": Course(\"cs2101\", \"Software Engineering\", \"3\", \"\")\n",
        "    },\n",
        "    5: {\n",
        "        \"cs4303\": Course(\"cs4303\", \"Artificial Intelligence\", \"4\", \"cs2003\"),\n",
        "        \"cs3005\": Course(\"cs3005\", \"Design & Analysis of Algorithms\", \"3\", \"cs2003\"),\n",
        "        \"cs3202\": Course(\"cs3202\", \"Web Engineering\", \"4\", \"cs2003\"),\n",
        "        \"cs3002\": Course(\"cs3002\", \"Computer Networks\", \"3\", \"cs2003\"),\n",
        "        \"cs3003\": Course(\"cs3003\", \"Software Project Management\", \"3\", \"cs2101\")\n",
        "    },\n",
        "    6: {\n",
        "        \"cs3701\": Course(\"cs3701\", \"Computer Graphics\", \"4\", \"cs2004\"),\n",
        "        \"cs4102\": Course(\"cs4102\", \"Software Project-I\", \"4\", \"cs2004\"),\n",
        "        \"cs3702\": Course(\"cs3702\", \"Theory of Automata\", \"3\", \"cs2004\"),\n",
        "        \"cs4001\": Course(\"cs4001\", \"Digital Image Processing\", \"3\", \"cs2004\"),\n",
        "        \"cs4602\": Course(\"cs4602\", \"Data Warehousing & Data Mining\", \"3\", \"cs2201\")\n",
        "    },\n",
        "    7: {\n",
        "        \"cs4701\": Course(\"cs4701\", \"Introduction to Machine Learning\", \"3\", \"CS3005\"),\n",
        "        \"cs4802\": Course(\"cs4802\", \"Software Project-II\", \"3\", \"cs4102\"),\n",
        "        \"cs4201\": Course(\"cs4201\", \"Advanced Database Systems\", \"3\", \"cs2201\"),\n",
        "        \"cs4302\": Course(\"cs4302\", \"Software Quality Assurance\", \"3\", \"cs3003\"),\n",
        "        \"cs4503\": Course(\"cs4503\", \"Compiler Construction\", \"3\", \"cs3702\"),\n",
        "        \"cs4004\": Course(\"cs4004\", \"Parallel Computing\", \"3\", \"cs3002\")\n",
        "    },\n",
        "    8: {\n",
        "        \"cs4801\": Course(\"cs4801\", \"Final Year Project\", \"4\", \"\"),\n",
        "        \"cs4902\": Course(\"cs4902\", \"Software Project-III\", \"4\", \"cs4802\"),\n",
        "        \"cs4502\": Course(\"cs4502\", \"Advanced Operating Systems\", \"4\", \"cs2504\"),\n",
        "        \"cs4603\": Course(\"cs4603\", \"Human Computer Interaction\", \"3\", \"\"),\n",
        "        \"cs4005\": Course(\"cs4005\", \"Wireless Networks\", \"3\", \"cs3002\")\n",
        "    }\n",
        "}"
      ]
    },
    {
      "cell_type": "code",
      "execution_count": 42,
      "metadata": {},
      "outputs": [],
      "source": [
        "import random\n",
        "from copy import deepcopy\n"
      ]
    },
    {
      "cell_type": "code",
      "execution_count": 43,
      "metadata": {},
      "outputs": [],
      "source": [
        "def generate_chromosome(cur_semester, failed_courses, credit_hour_limit):\n",
        "    chromosome = []\n",
        "    for course_code, course in curriculum[cur_semester].items():\n",
        "        if course_code not in failed_courses and sum(c.credit_hours for c in chromosome) + course.credit_hours <= credit_hour_limit:\n",
        "            if all(prerequisite in [c.code for c in chromosome] for prerequisite in course.prerequisites):\n",
        "                chromosome.append(course)\n",
        "    return chromosome\n",
        "\n",
        "def generate_population(cur_semester, failed_courses, credit_hour_limit, population_size):\n",
        "    population = []\n",
        "    for _ in range(population_size):\n",
        "        chromosome = generate_chromosome(cur_semester, failed_courses, credit_hour_limit)\n",
        "        population.append(chromosome)\n",
        "    return population\n",
        "\n",
        "def fitness(chromosome):\n",
        "    return sum(course.credit_hours for course in chromosome)\n",
        "\n",
        "def crossover(parent1, parent2):\n",
        "    crossover_point = random.randint(1, min(len(parent1), len(parent2)) - 1)\n",
        "    child1 = parent1[:crossover_point] + parent2[crossover_point:]\n",
        "    child2 = parent2[:crossover_point] + parent1[crossover_point:]\n",
        "    return child1, child2\n",
        "\n",
        "def mutation(chromosome, cur_semester, failed_courses, credit_hour_limit):\n",
        "    mutated_chromosome = deepcopy(chromosome)\n",
        "    for i in range(len(mutated_chromosome)):\n",
        "        if random.random() < 0.2:\n",
        "            mutated_chromosome.pop(i)\n",
        "            available_courses = [course for course in curriculum[cur_semester].values()\n",
        "                                 if course.code not in failed_courses and course not in mutated_chromosome\n",
        "                                 and sum(c.credit_hours for c in mutated_chromosome) + course.credit_hours <= credit_hour_limit\n",
        "                                 and all(prerequisite in [c.code for c in mutated_chromosome] for prerequisite in course.prerequisites)]\n",
        "            if available_courses:\n",
        "                mutated_chromosome.insert(i, random.choice(available_courses))\n",
        "    return mutated_chromosome\n",
        "\n",
        "def select_best_population(population, cur_semester, failed_courses, credit_hour_limit):\n",
        "    best_population = []\n",
        "    for chromosome in population:\n",
        "        if sum(course.credit_hours for course in chromosome) <= credit_hour_limit:\n",
        "            if all(prerequisite in [c.code for c in chromosome] for prerequisite in curriculum[cur_semester + 1]):\n",
        "                best_population.append(chromosome)\n",
        "    return best_population\n",
        "\n",
        "\n",
        "def genetic_algorithm(cur_semester, failed_courses, credit_hour_limit, population_size, generations):\n",
        "    population = generate_population(cur_semester, failed_courses, credit_hour_limit, population_size)\n",
        "\n",
        "    for _ in range(generations):\n",
        "        next_generation = []\n",
        "        while len(next_generation) < population_size:\n",
        "            parent1 = random.choice(population)\n",
        "            parent2 = random.choice(population)\n",
        "            child1, child2 = crossover(parent1, parent2)\n",
        "            mutated_child1 = mutation(child1, cur_semester, failed_courses, credit_hour_limit)\n",
        "            mutated_child2 = mutation(child2, cur_semester, failed_courses, credit_hour_limit)\n",
        "            next_generation.extend([mutated_child1, mutated_child2])\n",
        "\n",
        "        population = select_best_population(next_generation, cur_semester, failed_courses, credit_hour_limit)\n",
        "        if population:\n",
        "            best_chromosome = max(population, key=fitness)\n",
        "            return best_chromosome\n",
        "\n",
        "    return None\n",
        "\n"
      ]
    },
    {
      "cell_type": "code",
      "execution_count": 44,
      "metadata": {},
      "outputs": [
        {
          "ename": "IndexError",
          "evalue": "Cannot choose from an empty sequence",
          "output_type": "error",
          "traceback": [
            "\u001b[1;31m---------------------------------------------------------------------------\u001b[0m",
            "\u001b[1;31mIndexError\u001b[0m                                Traceback (most recent call last)",
            "Cell \u001b[1;32mIn[44], line 7\u001b[0m\n\u001b[0;32m      4\u001b[0m population_size \u001b[39m=\u001b[39m \u001b[39m50\u001b[39m\n\u001b[0;32m      5\u001b[0m generations \u001b[39m=\u001b[39m \u001b[39m100\u001b[39m\n\u001b[1;32m----> 7\u001b[0m best_chromosome \u001b[39m=\u001b[39m genetic_algorithm(current_semester, failed_courses, credit_hour_limit, population_size, generations)\n\u001b[0;32m      9\u001b[0m \u001b[39mif\u001b[39;00m best_chromosome:\n\u001b[0;32m     10\u001b[0m     \u001b[39mprint\u001b[39m(\u001b[39m\"\u001b[39m\u001b[39mBest Chromosome (New Plan):\u001b[39m\u001b[39m\"\u001b[39m)\n",
            "Cell \u001b[1;32mIn[43], line 52\u001b[0m, in \u001b[0;36mgenetic_algorithm\u001b[1;34m(cur_semester, failed_courses, credit_hour_limit, population_size, generations)\u001b[0m\n\u001b[0;32m     50\u001b[0m next_generation \u001b[39m=\u001b[39m []\n\u001b[0;32m     51\u001b[0m \u001b[39mwhile\u001b[39;00m \u001b[39mlen\u001b[39m(next_generation) \u001b[39m<\u001b[39m population_size:\n\u001b[1;32m---> 52\u001b[0m     parent1 \u001b[39m=\u001b[39m random\u001b[39m.\u001b[39;49mchoice(population)\n\u001b[0;32m     53\u001b[0m     parent2 \u001b[39m=\u001b[39m random\u001b[39m.\u001b[39mchoice(population)\n\u001b[0;32m     54\u001b[0m     child1, child2 \u001b[39m=\u001b[39m crossover(parent1, parent2)\n",
            "File \u001b[1;32mc:\\Users\\Moin\\AppData\\Local\\Programs\\Python\\Python311\\Lib\\random.py:370\u001b[0m, in \u001b[0;36mRandom.choice\u001b[1;34m(self, seq)\u001b[0m\n\u001b[0;32m    368\u001b[0m \u001b[39m\u001b[39m\u001b[39m\"\"\"Choose a random element from a non-empty sequence.\"\"\"\u001b[39;00m\n\u001b[0;32m    369\u001b[0m \u001b[39mif\u001b[39;00m \u001b[39mnot\u001b[39;00m seq:\n\u001b[1;32m--> 370\u001b[0m     \u001b[39mraise\u001b[39;00m \u001b[39mIndexError\u001b[39;00m(\u001b[39m'\u001b[39m\u001b[39mCannot choose from an empty sequence\u001b[39m\u001b[39m'\u001b[39m)\n\u001b[0;32m    371\u001b[0m \u001b[39mreturn\u001b[39;00m seq[\u001b[39mself\u001b[39m\u001b[39m.\u001b[39m_randbelow(\u001b[39mlen\u001b[39m(seq))]\n",
            "\u001b[1;31mIndexError\u001b[0m: Cannot choose from an empty sequence"
          ]
        }
      ],
      "source": [
        "current_semester = 3\n",
        "failed_courses = [\"cs2004\", \"sc2003\"]\n",
        "credit_hour_limit = 14\n",
        "population_size = 50\n",
        "generations = 100\n",
        "\n",
        "best_chromosome = genetic_algorithm(current_semester, failed_courses, credit_hour_limit, population_size, generations)\n",
        "\n",
        "if best_chromosome:\n",
        "    print(\"Best Chromosome (New Plan):\")\n",
        "    for course in best_chromosome:\n",
        "        print(course.code, course.title, course.credit_hours)\n",
        "else:\n",
        "    print(\"No valid plan found.\")\n"
      ]
    },
    {
      "cell_type": "code",
      "execution_count": null,
      "metadata": {},
      "outputs": [],
      "source": [
        "# taking input from user\n",
        "current_semester = int(input(\"Enter current semester: \")) # 4\n",
        "failed_courses = input(\"Enter failed courses separated by space: \").split() # cs2003 cs2503 sc1002"
      ]
    },
    {
      "cell_type": "code",
      "execution_count": 7,
      "metadata": {},
      "outputs": [
        {
          "name": "stdout",
          "output_type": "stream",
          "text": [
            "Completed courses after removing failed courses:  ['sc1201', 'sc1001', 'hu1002', 'cs1501', 'cs1001', 'hu1003', 'cs1502', 'hu1101', 'sc1002', 'cs2301', 'cs1002', 'cs2503', 'cs2003', 'sc2003', 'hu1102', 'cs2004', 'cs2201', 'cs2504', 'sc2004', 'cs4303', 'cs3005', 'cs3202', 'cs3002', 'cs3003']\n"
          ]
        }
      ],
      "source": [
        "# taking input from user\n",
        "current_semester = int(input(\"Enter current semester: \")) # 4\n",
        "failed_courses = input(\"Enter failed courses separated by space: \").split() # cs2003 cs2503 sc1002\n",
        "\n",
        "# completed courses\n",
        "completed_courses = []\n",
        "for i in range(1, current_semester+1):\n",
        "    completed_courses.extend(curriculum[i].keys())\n",
        "\n",
        "#print(\"Completed courses: \", completed_courses)\n",
        "\n",
        "# failed courses are not considered as completed courses\n",
        "for course in failed_courses:\n",
        "    if course in completed_courses:\n",
        "        completed_courses.remove(course)\n",
        "\n",
        "print(\"Completed courses after removing failed courses: \", completed_courses)"
      ]
    },
    {
      "cell_type": "code",
      "execution_count": 9,
      "metadata": {},
      "outputs": [
        {
          "name": "stdout",
          "output_type": "stream",
          "text": [
            "Courses that can be taken in current semester: \n"
          ]
        }
      ],
      "source": [
        "# courses that can be taken in current semester\n",
        "courses = []\n",
        "for course in curriculum[current_semester].values():\n",
        "    if course.code not in completed_courses:\n",
        "        # now checking if the prerequisites of the course are completed\n",
        "        if course != \"\" and course.prerequisites.issubset(completed_courses):\n",
        "            courses.append(course)\n",
        "\n",
        "print(\"Courses that can be taken in current semester: \")\n",
        "for course in courses:\n",
        "    print(course.code, course.title, course.credit_hours)        "
      ]
    },
    {
      "cell_type": "code",
      "execution_count": 40,
      "metadata": {},
      "outputs": [
        {
          "name": "stdout",
          "output_type": "stream",
          "text": [
            "sc2004 Probability and Statistics 3\n",
            "cs2101 Software Engineering 3\n",
            "cs2003 Data Structure and Algorithms 4\n",
            "cs2503 Computer Organization & Assembly Language 4\n",
            "sc1002 Multivariate Calculus 2\n"
          ]
        }
      ],
      "source": [
        "# now adding failed courses to the list of courses\n",
        "for course in failed_courses:\n",
        "    for semester in range(1, current_semester):\n",
        "        if course in curriculum[semester].keys():\n",
        "            courses.append(curriculum[semester][course])\n",
        "\n",
        "# now we have all the courses that can be taken in current semester\n",
        "for course in courses:\n",
        "    print(course.code, course.title, course.credit_hours)"
      ]
    },
    {
      "cell_type": "code",
      "execution_count": 41,
      "metadata": {},
      "outputs": [],
      "source": [
        "# now to check if the credit hours limit is exceeded\n",
        "credit_hours = 0\n",
        "for course in courses:\n",
        "    credit_hours += int(course.credit_hours)\n",
        "    \n",
        "if credit_hours > CREDIT_HOURS_LIMIT:\n",
        "        random.shuffle(courses)\n",
        "        courses.pop()   \n",
        "        "
      ]
    }
  ],
  "metadata": {
    "colab": {
      "provenance": []
    },
    "kernelspec": {
      "display_name": "Python 3",
      "name": "python3"
    },
    "language_info": {
      "codemirror_mode": {
        "name": "ipython",
        "version": 3
      },
      "file_extension": ".py",
      "mimetype": "text/x-python",
      "name": "python",
      "nbconvert_exporter": "python",
      "pygments_lexer": "ipython3",
      "version": "3.11.1"
    }
  },
  "nbformat": 4,
  "nbformat_minor": 0
}
